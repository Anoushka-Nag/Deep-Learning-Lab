{
  "nbformat": 4,
  "nbformat_minor": 0,
  "metadata": {
    "colab": {
      "provenance": []
    },
    "kernelspec": {
      "name": "python3",
      "display_name": "Python 3"
    },
    "language_info": {
      "name": "python"
    }
  },
  "cells": [
    {
      "cell_type": "code",
      "execution_count": 1,
      "metadata": {
        "colab": {
          "base_uri": "https://localhost:8080/",
          "height": 447
        },
        "id": "MvkwdwQoOvCY",
        "outputId": "858880f0-5cfb-4936-8f3d-fa357c7d4952"
      },
      "outputs": [
        {
          "output_type": "execute_result",
          "data": {
            "text/plain": [
              "[<matplotlib.lines.Line2D at 0x7b9af7cbf910>]"
            ]
          },
          "metadata": {},
          "execution_count": 1
        },
        {
          "output_type": "display_data",
          "data": {
            "text/plain": [
              "<Figure size 640x480 with 1 Axes>"
            ],
            "image/png": "[encoded data removed]"
          },
          "metadata": {}
        }
      ],
      "source": [
        "#Q1\n",
        "import torch\n",
        "import numpy as np\n",
        "from torch.autograd import grad\n",
        "import matplotlib.pyplot as plt\n",
        "\n",
        "x = torch.tensor([12.4,14.3,14.5,14.9,16.1,16.9,16.5,15.4,17.0,17.9,18.8,20.3,22.4,19.4,15.5,16.7,17.3,18.4,19.2,17.4,19.5,19.7,21.2])\n",
        "y = torch.tensor([11.2,12.5,12.7,13.1,14.1,14.8,14.4,13.4,14.9,15.6,16.4,17.7,19.6,16.9,14.0,14.6,15.1,16.1,16.8,15.2,17.0,17.2,18.6])\n",
        "b = torch.rand([1],requires_grad = True)\n",
        "w = torch.rand([1],requires_grad = True)\n",
        "learning_rate = torch.tensor(0.001)\n",
        "loss_list = []\n",
        "\n",
        "for epochs in range(100):\n",
        "    loss = 0.0\n",
        "    for j in range(len(x)):\n",
        "        a = w*x[j]\n",
        "        y_p = a + b\n",
        "        loss += (y[j] - y_p)**2\n",
        "    loss = loss/len(x)\n",
        "    loss_list.append(loss.item())\n",
        "\n",
        "    loss.backward()\n",
        "\n",
        "    with torch.no_grad():\n",
        "        w -= learning_rate*w.grad\n",
        "        b -= learning_rate*b.grad\n",
        "\n",
        "    w.grad.zero_()\n",
        "    b.grad.zero_()\n",
        "\n",
        "plt.plot(loss_list)"
      ]
    },
    {
      "cell_type": "code",
      "source": [
        "#Q2\n",
        "import torch\n",
        "import numpy as np\n",
        "from torch.autograd import grad\n",
        "import matplotlib.pyplot as plt\n",
        "\n",
        "inp_x = np.array([2,4])\n",
        "inp_y = np.array([20,40])\n",
        "\n",
        "x = torch.tensor(inp_x)\n",
        "y = torch.tensor(inp_y)\n",
        "b = torch.tensor(1.,requires_grad = True)\n",
        "w = torch.tensor(1.,requires_grad = True)\n",
        "learning_rate = torch.tensor(0.001)\n",
        "loss_list = []\n",
        "\n",
        "for epochs in range(2):\n",
        "    loss = 0.0\n",
        "    for j in range(len(x)):\n",
        "        a = w*x[j]\n",
        "        y_p = a + b\n",
        "        loss += (y[j] - y_p)**2\n",
        "    loss = loss/len(x)\n",
        "    loss_list.append(loss.item())\n",
        "    loss.backward()\n",
        "\n",
        "    with torch.no_grad():\n",
        "        w -= learning_rate*w.grad\n",
        "        b -= learning_rate*b.grad\n",
        "\n",
        "    print(w.grad,b.grad)\n",
        "    w.grad.zero_()\n",
        "    b.grad.zero_()\n",
        "    print(\"w = {},b = {},loss = {}\".format(w,b,loss))\n",
        "\n",
        "def analytical(x,y,w,b):\n",
        "    for epochs in range(2):\n",
        "        loss = 0.0\n",
        "        for j in range(len(x)):\n",
        "            y_p = w*x[j] + b\n",
        "            loss += (y[j] - y_p)**2\n",
        "        loss = loss/len(x)\n",
        "        wgrad,bgrad = 0,0\n",
        "        for i in range(len(x)):\n",
        "            wgrad += (y[j]-y_p)*(x[i])\n",
        "            bgrad += (y[j]-y_p)\n",
        "        w -= 0.001*wgrad*2/len(x)\n",
        "        b -= 0.001*bgrad*2/len(x)\n",
        "        print(\"w = {},b = {},loss = {}\".format(w,b,loss))\n",
        "\n",
        "print(\"Analytical Solution\")\n",
        "analytical(inp_x,inp_y,1,1)"
      ],
      "metadata": {
        "colab": {
          "base_uri": "https://localhost:8080/"
        },
        "id": "ZT1TLnMeO2fW",
        "outputId": "84c8efd2-b256-454c-d8a0-50f9628bbda7"
      },
      "execution_count": 2,
      "outputs": [
        {
          "output_type": "stream",
          "name": "stdout",
          "text": [
            "tensor(-174.) tensor(-52.)\n",
            "w = 1.1740000247955322,b = 1.0520000457763672,loss = 757.0\n",
            "tensor(-170.2080) tensor(-50.8520)\n",
            "w = 1.344208002090454,b = 1.1028521060943604,loss = 724.3797607421875\n",
            "Analytical Solution\n",
            "w = 0.79,b = 0.9299999999999999,loss = 757.0\n",
            "w = 0.57454,b = 0.8581799999999999,loss = 797.7140999999999\n"
          ]
        }
      ]
    },
    {
      "cell_type": "code",
      "source": [
        "x = torch.tensor([5.0,7.0,12.0,16.0,20.0])\n",
        "y = torch.tensor([40.0,120.0,180.0,210.0,240.0])\n",
        "learning_rate = torch.tensor(0.001)\n",
        "\n",
        "class RegressionModel:\n",
        "    def __init__(self):\n",
        "        self.w = torch.rand([1],requires_grad = True)\n",
        "        self.b = torch.rand([1],requires_grad = True)\n",
        "    def forward(self,x):\n",
        "        return self.w*x + self.b\n",
        "    def update(self):\n",
        "        self.w -= learning_rate*self.w.grad\n",
        "        self.b -= learning_rate*self.b.grad\n",
        "    def reset_grad(self):\n",
        "        self.w.grad.zero_()\n",
        "        self.b.grad.zero_()\n",
        "\n",
        "def criterion(yj,y_p):\n",
        "    return (yj - y_p)**2\n",
        "\n",
        "model = RegressionModel()\n",
        "loss_list = []\n",
        "\n",
        "for epochs in range(100):\n",
        "    loss = 0.0\n",
        "    for j in range(len(x)):\n",
        "        y_p = model.forward(x[j])\n",
        "        loss += criterion(y[j],y_p)\n",
        "    loss = loss/len(x)\n",
        "    loss_list.append(loss.item())\n",
        "\n",
        "    loss.backward()\n",
        "\n",
        "    with torch.no_grad():\n",
        "        model.update()\n",
        "    model.reset_grad()\n",
        "\n",
        "print(\"The parameters are w={},b={}, and loss ={}\".format(model.w,model.b,loss.item()))\n",
        "\n",
        "plt.plot(loss_list)"
      ],
      "metadata": {
        "colab": {
          "base_uri": "https://localhost:8080/",
          "height": 467
        },
        "id": "0qg_ztPBPR_j",
        "outputId": "4f4bca5d-1df0-4349-9ef6-eb92e7116989"
      },
      "execution_count": 5,
      "outputs": [
        {
          "output_type": "stream",
          "name": "stdout",
          "text": [
            "The parameters are w=tensor([12.9057], requires_grad=True),b=tensor([1.3504], requires_grad=True), and loss =484.05718994140625\n"
          ]
        },
        {
          "output_type": "execute_result",
          "data": {
            "text/plain": [
              "[<matplotlib.lines.Line2D at 0x7b9af5a04610>]"
            ]
          },
          "metadata": {},
          "execution_count": 5
        },
        {
          "output_type": "display_data",
          "data": {
            "text/plain": [
              "<Figure size 640x480 with 1 Axes>"
            ],
            "image/png": "[encoded data removed]"
          },
          "metadata": {}
        }
      ]
    },
    {
      "cell_type": "code",
      "source": [
        "#Q4\n",
        "import torch\n",
        "import torch.nn as nn\n",
        "from torch.utils.data import Dataset, DataLoader\n",
        "import matplotlib.pyplot as plt"
      ],
      "metadata": {
        "id": "AuxQv3JHPyTI"
      },
      "execution_count": 6,
      "outputs": []
    },
    {
      "cell_type": "code",
      "source": [
        "class CustomDataset(Dataset):\n",
        "    def __init__(self, X, Y):\n",
        "        self.X = X\n",
        "        self.Y = Y\n",
        "\n",
        "    def __len__(self):\n",
        "        return len(self.X)\n",
        "\n",
        "    def __getitem__(self, i):\n",
        "        return self.X[i], self.Y[i]\n",
        "\n",
        "\n",
        "class LinearRegression(nn.Module):\n",
        "    def __init__(self):\n",
        "        super(LinearRegression, self).__init__()\n",
        "        self.w = nn.parameter.Parameter(torch.rand([1]))\n",
        "        self.b = nn.parameter.Parameter(torch.rand([1]))\n",
        "\n",
        "    def forward(self, x):\n",
        "        y_pred = self.w * x + self.b\n",
        "        return y_pred"
      ],
      "metadata": {
        "id": "UkVR4_fdP4zP"
      },
      "execution_count": 7,
      "outputs": []
    },
    {
      "cell_type": "code",
      "source": [
        "X = torch.tensor([5.0, 7.0, 12.0, 16.0, 20.0])\n",
        "Y = torch.tensor([40.0, 120.0, 180.0, 210.0, 240.0])\n",
        "dataset = CustomDataset(X, Y)\n",
        "dataloader = DataLoader(dataset)"
      ],
      "metadata": {
        "id": "xUhXSwG_P-EU"
      },
      "execution_count": 9,
      "outputs": []
    },
    {
      "cell_type": "code",
      "source": [
        "model = LinearRegression()\n",
        "criterion = nn.MSELoss()\n",
        "optimizer = torch.optim.SGD(model.parameters(), lr=0.001)"
      ],
      "metadata": {
        "id": "9LGBhSwHQDzs"
      },
      "execution_count": 10,
      "outputs": []
    },
    {
      "cell_type": "code",
      "source": [
        "loss_list = []\n",
        "for epoch in range(100):\n",
        "    running_loss = 0.0\n",
        "    optimizer.zero_grad()\n",
        "\n",
        "    for x, y in dataloader:\n",
        "        y_p = model(x)\n",
        "        loss = criterion(y_p, y)\n",
        "        running_loss += loss\n",
        "\n",
        "    running_loss = running_loss / len(dataloader)\n",
        "    running_loss.backward()\n",
        "    optimizer.step()\n",
        "\n",
        "    print(\"The parameters are w={:.4f}, b={:.4f} and loss={:.4f}\".format(model.w.item(), model.b.item(), running_loss))\n",
        "    loss_list.append(running_loss.item())"
      ],
      "metadata": {
        "colab": {
          "base_uri": "https://localhost:8080/"
        },
        "id": "77tFgeH5QD88",
        "outputId": "5205ae86-b62e-407c-83b4-1d28e41cfc1d"
      },
      "execution_count": 11,
      "outputs": [
        {
          "output_type": "stream",
          "name": "stdout",
          "text": [
            "The parameters are w=4.5707, b=0.8167 and loss=29591.8848\n",
            "The parameters are w=7.4972, b=1.0214 and loss=12734.7939\n",
            "The parameters are w=9.3956, b=1.1554 and loss=5640.0171\n",
            "The parameters are w=10.6272, b=1.2436 and loss=2653.9773\n",
            "The parameters are w=11.4261, b=1.3021 and loss=1397.2130\n",
            "The parameters are w=11.9443, b=1.3413 and loss=868.2614\n",
            "The parameters are w=12.2804, b=1.3679 and loss=645.6307\n",
            "The parameters are w=12.4983, b=1.3864 and loss=551.9230\n",
            "The parameters are w=12.6396, b=1.3997 and loss=512.4762\n",
            "The parameters are w=12.7312, b=1.4096 and loss=495.8667\n",
            "The parameters are w=12.7906, b=1.4172 and loss=488.8686\n",
            "The parameters are w=12.8290, b=1.4234 and loss=485.9161\n",
            "The parameters are w=12.8538, b=1.4286 and loss=484.6662\n",
            "The parameters are w=12.8698, b=1.4333 and loss=484.1331\n",
            "The parameters are w=12.8801, b=1.4376 and loss=483.9014\n",
            "The parameters are w=12.8867, b=1.4416 and loss=483.7964\n",
            "The parameters are w=12.8909, b=1.4454 and loss=483.7449\n",
            "The parameters are w=12.8936, b=1.4491 and loss=483.7160\n",
            "The parameters are w=12.8952, b=1.4528 and loss=483.6969\n",
            "The parameters are w=12.8962, b=1.4564 and loss=483.6814\n",
            "The parameters are w=12.8967, b=1.4600 and loss=483.6677\n",
            "The parameters are w=12.8970, b=1.4635 and loss=483.6547\n",
            "The parameters are w=12.8971, b=1.4671 and loss=483.6424\n",
            "The parameters are w=12.8970, b=1.4706 and loss=483.6296\n",
            "The parameters are w=12.8969, b=1.4741 and loss=483.6171\n",
            "The parameters are w=12.8968, b=1.4777 and loss=483.6042\n",
            "The parameters are w=12.8966, b=1.4812 and loss=483.5920\n",
            "The parameters are w=12.8964, b=1.4847 and loss=483.5797\n",
            "The parameters are w=12.8962, b=1.4882 and loss=483.5671\n",
            "The parameters are w=12.8960, b=1.4917 and loss=483.5549\n",
            "The parameters are w=12.8957, b=1.4952 and loss=483.5424\n",
            "The parameters are w=12.8955, b=1.4988 and loss=483.5302\n",
            "The parameters are w=12.8953, b=1.5023 and loss=483.5176\n",
            "The parameters are w=12.8950, b=1.5058 and loss=483.5053\n",
            "The parameters are w=12.8948, b=1.5093 and loss=483.4931\n",
            "The parameters are w=12.8945, b=1.5128 and loss=483.4806\n",
            "The parameters are w=12.8943, b=1.5163 and loss=483.4682\n",
            "The parameters are w=12.8941, b=1.5198 and loss=483.4556\n",
            "The parameters are w=12.8938, b=1.5233 and loss=483.4437\n",
            "The parameters are w=12.8936, b=1.5268 and loss=483.4312\n",
            "The parameters are w=12.8933, b=1.5303 and loss=483.4189\n",
            "The parameters are w=12.8931, b=1.5338 and loss=483.4063\n",
            "The parameters are w=12.8929, b=1.5373 and loss=483.3944\n",
            "The parameters are w=12.8926, b=1.5408 and loss=483.3822\n",
            "The parameters are w=12.8924, b=1.5443 and loss=483.3698\n",
            "The parameters are w=12.8921, b=1.5478 and loss=483.3572\n",
            "The parameters are w=12.8919, b=1.5513 and loss=483.3453\n",
            "The parameters are w=12.8917, b=1.5548 and loss=483.3331\n",
            "The parameters are w=12.8914, b=1.5583 and loss=483.3208\n",
            "The parameters are w=12.8912, b=1.5617 and loss=483.3083\n",
            "The parameters are w=12.8909, b=1.5652 and loss=483.2959\n",
            "The parameters are w=12.8907, b=1.5687 and loss=483.2840\n",
            "The parameters are w=12.8905, b=1.5722 and loss=483.2715\n",
            "The parameters are w=12.8902, b=1.5757 and loss=483.2596\n",
            "The parameters are w=12.8900, b=1.5792 and loss=483.2472\n",
            "The parameters are w=12.8897, b=1.5827 and loss=483.2349\n",
            "The parameters are w=12.8895, b=1.5861 and loss=483.2231\n",
            "The parameters are w=12.8893, b=1.5896 and loss=483.2111\n",
            "The parameters are w=12.8890, b=1.5931 and loss=483.1988\n",
            "The parameters are w=12.8888, b=1.5966 and loss=483.1868\n",
            "The parameters are w=12.8886, b=1.6000 and loss=483.1747\n",
            "The parameters are w=12.8883, b=1.6035 and loss=483.1622\n",
            "The parameters are w=12.8881, b=1.6070 and loss=483.1499\n",
            "The parameters are w=12.8878, b=1.6105 and loss=483.1379\n",
            "The parameters are w=12.8876, b=1.6139 and loss=483.1259\n",
            "The parameters are w=12.8874, b=1.6174 and loss=483.1139\n",
            "The parameters are w=12.8871, b=1.6209 and loss=483.1014\n",
            "The parameters are w=12.8869, b=1.6243 and loss=483.0895\n",
            "The parameters are w=12.8866, b=1.6278 and loss=483.0776\n",
            "The parameters are w=12.8864, b=1.6313 and loss=483.0655\n",
            "The parameters are w=12.8862, b=1.6347 and loss=483.0534\n",
            "The parameters are w=12.8859, b=1.6382 and loss=483.0414\n",
            "The parameters are w=12.8857, b=1.6417 and loss=483.0294\n",
            "The parameters are w=12.8855, b=1.6451 and loss=483.0173\n",
            "The parameters are w=12.8852, b=1.6486 and loss=483.0049\n",
            "The parameters are w=12.8850, b=1.6520 and loss=482.9932\n",
            "The parameters are w=12.8847, b=1.6555 and loss=482.9811\n",
            "The parameters are w=12.8845, b=1.6590 and loss=482.9692\n",
            "The parameters are w=12.8843, b=1.6624 and loss=482.9573\n",
            "The parameters are w=12.8840, b=1.6659 and loss=482.9450\n",
            "The parameters are w=12.8838, b=1.6693 and loss=482.9333\n",
            "The parameters are w=12.8836, b=1.6728 and loss=482.9211\n",
            "The parameters are w=12.8833, b=1.6762 and loss=482.9091\n",
            "The parameters are w=12.8831, b=1.6797 and loss=482.8972\n",
            "The parameters are w=12.8828, b=1.6831 and loss=482.8852\n",
            "The parameters are w=12.8826, b=1.6866 and loss=482.8735\n",
            "The parameters are w=12.8824, b=1.6900 and loss=482.8616\n",
            "The parameters are w=12.8821, b=1.6934 and loss=482.8497\n",
            "The parameters are w=12.8819, b=1.6969 and loss=482.8378\n",
            "The parameters are w=12.8817, b=1.7003 and loss=482.8257\n",
            "The parameters are w=12.8814, b=1.7038 and loss=482.8139\n",
            "The parameters are w=12.8812, b=1.7072 and loss=482.8020\n",
            "The parameters are w=12.8810, b=1.7106 and loss=482.7903\n",
            "The parameters are w=12.8807, b=1.7141 and loss=482.7783\n",
            "The parameters are w=12.8805, b=1.7175 and loss=482.7667\n",
            "The parameters are w=12.8802, b=1.7209 and loss=482.7543\n",
            "The parameters are w=12.8800, b=1.7244 and loss=482.7428\n",
            "The parameters are w=12.8798, b=1.7278 and loss=482.7310\n",
            "The parameters are w=12.8795, b=1.7312 and loss=482.7194\n",
            "The parameters are w=12.8793, b=1.7347 and loss=482.7072\n"
          ]
        }
      ]
    },
    {
      "cell_type": "code",
      "source": [
        "plt.plot(loss_list)\n",
        "plt.show()"
      ],
      "metadata": {
        "colab": {
          "base_uri": "https://localhost:8080/",
          "height": 430
        },
        "id": "6FwI1NWgQLmv",
        "outputId": "3c12fdf2-6f5f-4e93-e966-fe1fbecae5b6"
      },
      "execution_count": 12,
      "outputs": [
        {
          "output_type": "display_data",
          "data": {
            "text/plain": [
              "<Figure size 640x480 with 1 Axes>"
            ],
            "image/png": "[encoded data removed]"
          },
          "metadata": {}
        }
      ]
    },
    {
      "cell_type": "code",
      "source": [
        "#Q5\n",
        "import torch\n",
        "import numpy as np\n",
        "from torch.autograd import Variable\n",
        "\n",
        "x = Variable(torch.tensor([12.4,14.3,14.5,14.9,16.1,16.9,16.5,15.4,17.0,17.9,18.8,20.3,22.4,19.4,15.5,16.7,17.3,18.4,19.2,17.4,19.5,19.7,21.2]))\n",
        "y = Variable(torch.tensor([11.2,12.5,12.7,13.1,14.1,14.8,14.4,13.4,14.9,15.6,16.4,17.7,19.6,16.9,14.0,14.6,15.1,16.1,16.8,15.2,17.0,17.2,18.6]))\n",
        "\n",
        "class RegressionModel(torch.nn.Module):\n",
        "    def __init__(self):\n",
        "        super(RegressionModel, self).__init__()\n",
        "        self.linear = torch.nn.Linear(23, 23)\n",
        "\n",
        "    def forward(self,x):\n",
        "        return self.linear(x)\n",
        "\n",
        "model = RegressionModel()\n",
        "criterion = torch.nn.MSELoss()\n",
        "optimizer = torch.optim.SGD(model.parameters(), lr = 0.0032)\n",
        "\n",
        "for epochs in range(100):\n",
        "    pred_y = model(x)\n",
        "    loss = criterion(pred_y, y)\n",
        "    optimizer.zero_grad()\n",
        "    loss.backward()\n",
        "    optimizer.step()\n",
        "print(\"loss ={}\".format(loss.item()))"
      ],
      "metadata": {
        "colab": {
          "base_uri": "https://localhost:8080/"
        },
        "id": "ug1mmsqaQQsv",
        "outputId": "036497a8-86e9-42a5-98a2-7516430b6f52"
      },
      "execution_count": 13,
      "outputs": [
        {
          "output_type": "stream",
          "name": "stdout",
          "text": [
            "loss =42.884796142578125\n"
          ]
        }
      ]
    },
    {
      "cell_type": "code",
      "source": [
        "#Q6\n",
        "X = torch.tensor([[3.0, 8],\n",
        "                  [4, 5],\n",
        "                  [5, 7],\n",
        "                  [6, 3],\n",
        "                  [2, 1]])\n",
        "Y = torch.tensor([-3.7, 3.5, 2.5, 11.5, 5.7])"
      ],
      "metadata": {
        "id": "qV5fbzShQZY-"
      },
      "execution_count": 14,
      "outputs": []
    },
    {
      "cell_type": "code",
      "source": [
        "class LinearRegression(nn.Module):\n",
        "    def __init__(self, input_dim, output_dim):\n",
        "        super().__init__()\n",
        "        self.linear = torch.nn.Linear(input_dim, output_dim)\n",
        "\n",
        "    def forward(self, x):\n",
        "        y_pred = self.linear(x)\n",
        "        return y_pred"
      ],
      "metadata": {
        "id": "jzZTlLkoQvfT"
      },
      "execution_count": 17,
      "outputs": []
    },
    {
      "cell_type": "code",
      "source": [
        "dataset = CustomDataset(X, Y)\n",
        "dataloader = DataLoader(dataset)\n",
        "model = LinearRegression(2, 1)\n",
        "criterion = nn.MSELoss()\n",
        "optimizer = torch.optim.SGD(model.parameters(), lr=0.001)"
      ],
      "metadata": {
        "id": "C6690OoKQjNH"
      },
      "execution_count": 18,
      "outputs": []
    },
    {
      "cell_type": "code",
      "source": [
        "loss_list = []\n",
        "for epoch in range(500):\n",
        "    running_loss = 0.0\n",
        "    optimizer.zero_grad()\n",
        "\n",
        "    for x, y in dataloader:\n",
        "        y_p = model(x)\n",
        "        loss = criterion(y_p, y)\n",
        "        running_loss += loss\n",
        "\n",
        "    running_loss = running_loss / len(dataloader)\n",
        "    running_loss.backward()\n",
        "    optimizer.step()\n",
        "\n",
        "    loss_list.append(running_loss.item())\n",
        "\n",
        "    if epoch % 10 == 0:\n",
        "        print(\"The parameters are w1={:.4f}, w2={:.4f}, b={:.4f} and loss={:.4f}\".format(model.linear.weight[0][0], model.linear.weight[0][1], model.linear.bias.item(), running_loss.item()))"
      ],
      "metadata": {
        "colab": {
          "base_uri": "https://localhost:8080/"
        },
        "id": "mjxLsh1sQ1Er",
        "outputId": "51fb9f83-32a3-4ff8-937c-f388e2afc974"
      },
      "execution_count": 19,
      "outputs": [
        {
          "output_type": "stream",
          "name": "stderr",
          "text": [
            "/usr/local/lib/python3.10/dist-packages/torch/nn/modules/loss.py:535: UserWarning: Using a target size (torch.Size([1])) that is different to the input size (torch.Size([1, 1])). This will likely lead to incorrect results due to broadcasting. Please ensure they have the same size.\n",
            "  return F.mse_loss(input, target, reduction=self.reduction)\n"
          ]
        },
        {
          "output_type": "stream",
          "name": "stdout",
          "text": [
            "The parameters are w1=0.2530, w2=0.0162, b=0.1325 and loss=30.8905\n",
            "The parameters are w1=0.4820, w2=0.0233, b=0.1756 and loss=24.8995\n",
            "The parameters are w1=0.6482, w2=-0.0344, b=0.2050 and loss=21.6079\n",
            "The parameters are w1=0.7854, w2=-0.1136, b=0.2284 and loss=19.0087\n",
            "The parameters are w1=0.9067, w2=-0.1975, b=0.2489 and loss=16.7669\n",
            "The parameters are w1=1.0177, w2=-0.2799, b=0.2677 and loss=14.8017\n",
            "The parameters are w1=1.1206, w2=-0.3587, b=0.2853 and loss=13.0743\n",
            "The parameters are w1=1.2166, w2=-0.4331, b=0.3020 and loss=11.5550\n",
            "The parameters are w1=1.3065, w2=-0.5031, b=0.3178 and loss=10.2187\n",
            "The parameters are w1=1.3907, w2=-0.5689, b=0.3329 and loss=9.0434\n",
            "The parameters are w1=1.4695, w2=-0.6306, b=0.3473 and loss=8.0095\n",
            "The parameters are w1=1.5434, w2=-0.6885, b=0.3611 and loss=7.1000\n",
            "The parameters are w1=1.6127, w2=-0.7428, b=0.3742 and loss=6.3000\n",
            "The parameters are w1=1.6776, w2=-0.7937, b=0.3868 and loss=5.5963\n",
            "The parameters are w1=1.7385, w2=-0.8415, b=0.3988 and loss=4.9772\n",
            "The parameters are w1=1.7955, w2=-0.8864, b=0.4103 and loss=4.4325\n",
            "The parameters are w1=1.8489, w2=-0.9284, b=0.4213 and loss=3.9533\n",
            "The parameters are w1=1.8990, w2=-0.9679, b=0.4319 and loss=3.5317\n",
            "The parameters are w1=1.9459, w2=-1.0049, b=0.4421 and loss=3.1607\n",
            "The parameters are w1=1.9898, w2=-1.0396, b=0.4519 and loss=2.8342\n",
            "The parameters are w1=2.0310, w2=-1.0722, b=0.4613 and loss=2.5469\n",
            "The parameters are w1=2.0696, w2=-1.1027, b=0.4704 and loss=2.2941\n",
            "The parameters are w1=2.1057, w2=-1.1314, b=0.4791 and loss=2.0715\n",
            "The parameters are w1=2.1395, w2=-1.1583, b=0.4875 and loss=1.8756\n",
            "The parameters are w1=2.1712, w2=-1.1835, b=0.4957 and loss=1.7031\n",
            "The parameters are w1=2.2009, w2=-1.2072, b=0.5036 and loss=1.5513\n",
            "The parameters are w1=2.2287, w2=-1.2294, b=0.5112 and loss=1.4175\n",
            "The parameters are w1=2.2547, w2=-1.2502, b=0.5186 and loss=1.2997\n",
            "The parameters are w1=2.2791, w2=-1.2698, b=0.5258 and loss=1.1959\n",
            "The parameters are w1=2.3019, w2=-1.2882, b=0.5328 and loss=1.1044\n",
            "The parameters are w1=2.3233, w2=-1.3054, b=0.5395 and loss=1.0238\n",
            "The parameters are w1=2.3433, w2=-1.3215, b=0.5461 and loss=0.9527\n",
            "The parameters are w1=2.3620, w2=-1.3367, b=0.5525 and loss=0.8900\n",
            "The parameters are w1=2.3795, w2=-1.3509, b=0.5588 and loss=0.8347\n",
            "The parameters are w1=2.3958, w2=-1.3643, b=0.5648 and loss=0.7858\n",
            "The parameters are w1=2.4112, w2=-1.3769, b=0.5708 and loss=0.7427\n",
            "The parameters are w1=2.4255, w2=-1.3886, b=0.5766 and loss=0.7046\n",
            "The parameters are w1=2.4389, w2=-1.3997, b=0.5823 and loss=0.6709\n",
            "The parameters are w1=2.4514, w2=-1.4101, b=0.5878 and loss=0.6410\n",
            "The parameters are w1=2.4631, w2=-1.4198, b=0.5933 and loss=0.6146\n",
            "The parameters are w1=2.4740, w2=-1.4290, b=0.5986 and loss=0.5912\n",
            "The parameters are w1=2.4842, w2=-1.4375, b=0.6039 and loss=0.5705\n",
            "The parameters are w1=2.4938, w2=-1.4456, b=0.6090 and loss=0.5521\n",
            "The parameters are w1=2.5027, w2=-1.4532, b=0.6141 and loss=0.5357\n",
            "The parameters are w1=2.5110, w2=-1.4603, b=0.6191 and loss=0.5211\n",
            "The parameters are w1=2.5188, w2=-1.4670, b=0.6240 and loss=0.5081\n",
            "The parameters are w1=2.5260, w2=-1.4733, b=0.6288 and loss=0.4965\n",
            "The parameters are w1=2.5327, w2=-1.4792, b=0.6335 and loss=0.4861\n",
            "The parameters are w1=2.5390, w2=-1.4847, b=0.6382 and loss=0.4768\n",
            "The parameters are w1=2.5449, w2=-1.4899, b=0.6428 and loss=0.4684\n"
          ]
        }
      ]
    },
    {
      "cell_type": "code",
      "source": [
        "plt.plot(loss_list)\n",
        "plt.show()"
      ],
      "metadata": {
        "colab": {
          "base_uri": "https://localhost:8080/",
          "height": 430
        },
        "id": "1VJAEb13Q5Pm",
        "outputId": "02ac3013-8f4b-4332-cc65-9cf987f4ce34"
      },
      "execution_count": 20,
      "outputs": [
        {
          "output_type": "display_data",
          "data": {
            "text/plain": [
              "<Figure size 640x480 with 1 Axes>"
            ],
            "image/png": "[encoded data removed]"
          },
          "metadata": {}
        }
      ]
    },
    {
      "cell_type": "code",
      "source": [
        "#Q7\n",
        "class LogisticRegression(nn.Module):\n",
        "    def __init__(self, input_dim, output_dim):\n",
        "        super().__init__()\n",
        "        self.linear = nn.Linear(input_dim, output_dim)\n",
        "        self.sigmoid = nn.Sigmoid()\n",
        "\n",
        "    def forward(self, x):\n",
        "        x = self.linear(x)\n",
        "        y_pred = self.sigmoid(x)\n",
        "        return y_pred"
      ],
      "metadata": {
        "id": "AHrydnV3Q7Xu"
      },
      "execution_count": 21,
      "outputs": []
    },
    {
      "cell_type": "code",
      "source": [
        "X = torch.tensor([1, 5, 10, 10, 25, 50, 70, 75, 100], dtype=torch.float32)\n",
        "Y = torch.tensor([0, 0, 0, 0, 0, 1, 1, 1, 1], dtype=torch.float32)\n",
        "\n",
        "plt.scatter(X, Y, c=Y)\n",
        "plt.show()"
      ],
      "metadata": {
        "colab": {
          "base_uri": "https://localhost:8080/",
          "height": 430
        },
        "id": "ZZUH9basQ7cS",
        "outputId": "179388f2-5d4f-4ddb-ed94-176e367da7b2"
      },
      "execution_count": 22,
      "outputs": [
        {
          "output_type": "display_data",
          "data": {
            "text/plain": [
              "<Figure size 640x480 with 1 Axes>"
            ],
            "image/png": "[encoded data removed]"
          },
          "metadata": {}
        }
      ]
    },
    {
      "cell_type": "code",
      "source": [
        "dataset = CustomDataset(X, Y)\n",
        "dataloader = DataLoader(dataset)\n",
        "\n",
        "model = LogisticRegression(1, 1)\n",
        "criterion = nn.BCELoss()\n",
        "optimizer = torch.optim.SGD(model.parameters(), lr=0.01)\n",
        "\n",
        "loss_list = []\n",
        "for epoch in range(1000):\n",
        "    running_loss = 0.0\n",
        "    optimizer.zero_grad()\n",
        "\n",
        "    for x, y in dataloader:\n",
        "        y_p = model(x)\n",
        "        loss = criterion(y_p, y)\n",
        "        running_loss += loss\n",
        "\n",
        "    running_loss = running_loss / len(dataloader)\n",
        "    running_loss.backward()\n",
        "    optimizer.step()\n",
        "\n",
        "    loss_list.append(running_loss.item())\n",
        "\n",
        "    if epoch % 100 == 0:\n",
        "        print(\"The parameters are w={:.4f}, b={:.4f} and loss={:.4f}\".format(model.linear.weight.item(), model.linear.bias.item(), running_loss.item()))"
      ],
      "metadata": {
        "colab": {
          "base_uri": "https://localhost:8080/"
        },
        "id": "gfUpPWnvRPRh",
        "outputId": "ec63e47d-36b6-45e8-902d-14a20c1d69db"
      },
      "execution_count": 23,
      "outputs": [
        {
          "output_type": "stream",
          "name": "stdout",
          "text": [
            "The parameters are w=0.0183, b=0.1594 and loss=0.6376\n",
            "The parameters are w=0.0220, b=-0.1131 and loss=0.5278\n",
            "The parameters are w=0.0284, b=-0.3578 and loss=0.4550\n",
            "The parameters are w=0.0365, b=-0.5774 and loss=0.3975\n",
            "The parameters are w=0.0435, b=-0.7757 and loss=0.3567\n",
            "The parameters are w=0.0472, b=-0.9566 and loss=0.3239\n",
            "The parameters are w=0.0507, b=-1.1223 and loss=0.2964\n",
            "The parameters are w=0.0539, b=-1.2747 and loss=0.2731\n",
            "The parameters are w=0.0570, b=-1.4156 and loss=0.2532\n",
            "The parameters are w=0.0599, b=-1.5464 and loss=0.2361\n"
          ]
        }
      ]
    },
    {
      "cell_type": "code",
      "source": [
        "plt.plot(loss_list)\n",
        "plt.show()"
      ],
      "metadata": {
        "id": "FMGzre5JRX_2",
        "outputId": "3fa8c62c-0a94-4ff5-e2b0-2541e95a64ee",
        "colab": {
          "base_uri": "https://localhost:8080/",
          "height": 430
        }
      },
      "execution_count": 24,
      "outputs": [
        {
          "output_type": "display_data",
          "data": {
            "text/plain": [
              "<Figure size 640x480 with 1 Axes>"
            ],
            "image/png": "[encoded data removed]"
          },
          "metadata": {}
        }
      ]
    }
  ]
}