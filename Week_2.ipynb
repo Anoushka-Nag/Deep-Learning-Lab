{
  "cells": [
    {
      "cell_type": "code",
      "execution_count": 1,
      "id": "b90644fa-f347-4a05-9797-8ae80f4caf1e",
      "metadata": {
        "id": "b90644fa-f347-4a05-9797-8ae80f4caf1e"
      },
      "outputs": [],
      "source": [
        "import torch"
      ]
    },
    {
      "cell_type": "markdown",
      "id": "7e64a69a-5e43-4dd3-bb30-2fc6fb305295",
      "metadata": {
        "id": "7e64a69a-5e43-4dd3-bb30-2fc6fb305295"
      },
      "source": [
        "Q1"
      ]
    },
    {
      "cell_type": "code",
      "execution_count": 2,
      "id": "2e81c0ec-99ad-4fad-af76-fe0f2dd83673",
      "metadata": {
        "id": "2e81c0ec-99ad-4fad-af76-fe0f2dd83673"
      },
      "outputs": [],
      "source": [
        "a = torch.tensor(1.0, requires_grad = True)\n",
        "b = torch.tensor(1.0, requires_grad = True)"
      ]
    },
    {
      "cell_type": "code",
      "execution_count": 3,
      "id": "68982c67-3325-45ac-9e69-4813e4b6f845",
      "metadata": {
        "id": "68982c67-3325-45ac-9e69-4813e4b6f845"
      },
      "outputs": [],
      "source": [
        "x1 = 2*a\n",
        "x2 = 3*b\n",
        "x3 = a**2\n",
        "x4 = b**3\n",
        "x5 = 5*x3\n",
        "x6 = 3*x4\n",
        "x7 = x1+x2\n",
        "x8 = x5+x6\n",
        "x9 = 2*x7\n",
        "x10 = 3*x8\n",
        "x11 = x9+x10"
      ]
    },
    {
      "cell_type": "code",
      "execution_count": 4,
      "id": "1d71b1d0-c050-470d-863f-facd42770d26",
      "metadata": {
        "colab": {
          "base_uri": "https://localhost:8080/"
        },
        "id": "1d71b1d0-c050-470d-863f-facd42770d26",
        "outputId": "1bdbaa5a-c0a6-4e91-a705-b4f137c49d00"
      },
      "outputs": [
        {
          "output_type": "stream",
          "name": "stdout",
          "text": [
            "dz/da is:  tensor(34.)\n",
            "dz/db is:  tensor(33.)\n"
          ]
        }
      ],
      "source": [
        "x11.backward()\n",
        "print(\"dz/da is: \", a.grad)\n",
        "print(\"dz/db is: \", b.grad)"
      ]
    },
    {
      "cell_type": "code",
      "source": [
        "def manual(a,b):\n",
        "    dx11dx9 = 1\n",
        "    dx9dx7 = 2\n",
        "    dx7dx1 = 1\n",
        "    dx1dxa = 2\n",
        "    dx11dx10 = 1\n",
        "    dx10dx8 = 3\n",
        "    dx8dx5 = 1\n",
        "    dx5dx3 = 5\n",
        "    dx3dxa = 2\n",
        "    dx11dxa = dx11dx9*dx9dx7*dx7dx1*dx1dxa + dx11dx10*dx10dx8*dx8dx5*dx5dx3*dx3dxa\n",
        "    return dx11dxa\n",
        "\n"
      ],
      "metadata": {
        "id": "eASlJSNTLi-j"
      },
      "id": "eASlJSNTLi-j",
      "execution_count": 5,
      "outputs": []
    },
    {
      "cell_type": "code",
      "source": [
        "print(manual(a,b))"
      ],
      "metadata": {
        "colab": {
          "base_uri": "https://localhost:8080/"
        },
        "id": "q412PvwJOrqP",
        "outputId": "1e7eef38-eafe-4413-a913-e91eee52a1ec"
      },
      "id": "q412PvwJOrqP",
      "execution_count": 6,
      "outputs": [
        {
          "output_type": "stream",
          "name": "stdout",
          "text": [
            "34\n"
          ]
        }
      ]
    },
    {
      "cell_type": "markdown",
      "id": "3a59542a-4f0c-4d67-9386-fd744cb23c73",
      "metadata": {
        "id": "3a59542a-4f0c-4d67-9386-fd744cb23c73"
      },
      "source": [
        "Q2"
      ]
    },
    {
      "cell_type": "code",
      "execution_count": 7,
      "id": "f2e094d2-3c39-4869-9172-3c3229053801",
      "metadata": {
        "id": "f2e094d2-3c39-4869-9172-3c3229053801"
      },
      "outputs": [],
      "source": [
        "x = torch.tensor(3.0)\n",
        "b = torch.tensor(5.0)\n",
        "w = torch.tensor(6.0, requires_grad = True)"
      ]
    },
    {
      "cell_type": "code",
      "execution_count": 8,
      "id": "8255d5d8-58f6-49b6-a8e5-b166574677a1",
      "metadata": {
        "id": "8255d5d8-58f6-49b6-a8e5-b166574677a1"
      },
      "outputs": [],
      "source": [
        "u = w*x\n",
        "v = u+b\n",
        "a = torch.relu(v)"
      ]
    },
    {
      "cell_type": "code",
      "execution_count": 9,
      "id": "c131095d-6e35-4f6a-bbce-5706ed5d5808",
      "metadata": {
        "colab": {
          "base_uri": "https://localhost:8080/"
        },
        "id": "c131095d-6e35-4f6a-bbce-5706ed5d5808",
        "outputId": "47104728-68db-4f92-ab7f-3cd765479bf3"
      },
      "outputs": [
        {
          "output_type": "stream",
          "name": "stdout",
          "text": [
            "Grad da/dw is :  tensor(3.)\n"
          ]
        }
      ],
      "source": [
        "a.backward()\n",
        "print(\"Grad da/dw is : \", w.grad)"
      ]
    },
    {
      "cell_type": "code",
      "execution_count": 10,
      "id": "16d6be75-af52-42f8-9913-086afbdf4c28",
      "metadata": {
        "id": "16d6be75-af52-42f8-9913-086afbdf4c28"
      },
      "outputs": [],
      "source": [
        "def func(x,b,w):\n",
        "    if v<0:\n",
        "        dadv = 0\n",
        "    else:\n",
        "\n",
        "        dadv=1\n",
        "    dvdu = 1\n",
        "    dudw = x\n",
        "    return dadv*dvdu*dudw"
      ]
    },
    {
      "cell_type": "code",
      "execution_count": 11,
      "id": "eee749e5-f1a2-4f63-a247-2a8acebdb341",
      "metadata": {
        "colab": {
          "base_uri": "https://localhost:8080/"
        },
        "id": "eee749e5-f1a2-4f63-a247-2a8acebdb341",
        "outputId": "a5848d75-28ad-4546-8b17-754abf3f2802"
      },
      "outputs": [
        {
          "output_type": "stream",
          "name": "stdout",
          "text": [
            "tensor(3.)\n"
          ]
        }
      ],
      "source": [
        "print(func(x,b,w))"
      ]
    },
    {
      "cell_type": "markdown",
      "id": "c811bab9-8064-4617-8738-4e36f6815939",
      "metadata": {
        "id": "c811bab9-8064-4617-8738-4e36f6815939"
      },
      "source": [
        "Q3"
      ]
    },
    {
      "cell_type": "code",
      "execution_count": 12,
      "id": "a6577832-ada4-4f73-b3bb-cb7c7798197f",
      "metadata": {
        "colab": {
          "base_uri": "https://localhost:8080/"
        },
        "id": "a6577832-ada4-4f73-b3bb-cb7c7798197f",
        "outputId": "b452b5d4-b8c0-4564-e9eb-f1acecf1ed10"
      },
      "outputs": [
        {
          "output_type": "stream",
          "name": "stdout",
          "text": [
            "Grad da/dw is :  tensor(-6.7949e-06)\n"
          ]
        }
      ],
      "source": [
        "import torch.nn\n",
        "x = torch.tensor(-3.0)\n",
        "b = torch.tensor(-5.0)\n",
        "w = torch.tensor(-6.0, requires_grad = True)\n",
        "u = w*x\n",
        "v = u+b\n",
        "q = torch.sigmoid(v)\n",
        "q.backward()\n",
        "print(\"Grad dq/dw is : \", w.grad)"
      ]
    },
    {
      "cell_type": "code",
      "source": [
        "def manual(x,b,w):\n",
        "    dfdv = q*(1-q)\n",
        "    dvdu = 1\n",
        "    dudw = x\n",
        "    return dfdv*dvdu*dudw"
      ],
      "metadata": {
        "id": "d40FIx7JWGxn"
      },
      "id": "d40FIx7JWGxn",
      "execution_count": 13,
      "outputs": []
    },
    {
      "cell_type": "code",
      "source": [
        "print(manual(x,b,w))"
      ],
      "metadata": {
        "colab": {
          "base_uri": "https://localhost:8080/"
        },
        "id": "CFw_CniwW02_",
        "outputId": "4f4fa5d4-778d-4171-f6e0-d406a73f30d5"
      },
      "id": "CFw_CniwW02_",
      "execution_count": 14,
      "outputs": [
        {
          "output_type": "stream",
          "name": "stdout",
          "text": [
            "tensor(-6.7949e-06, grad_fn=<MulBackward0>)\n"
          ]
        }
      ]
    },
    {
      "cell_type": "markdown",
      "id": "d160afc1-c0bc-4f06-8167-4348eabbb0ce",
      "metadata": {
        "id": "d160afc1-c0bc-4f06-8167-4348eabbb0ce"
      },
      "source": [
        "Q4"
      ]
    },
    {
      "cell_type": "code",
      "execution_count": 15,
      "id": "d404ba08-af33-4d6d-b82b-18bfb2a44812",
      "metadata": {
        "id": "d404ba08-af33-4d6d-b82b-18bfb2a44812"
      },
      "outputs": [],
      "source": [
        "x = torch.tensor(1.0, requires_grad=True)"
      ]
    },
    {
      "cell_type": "code",
      "execution_count": 16,
      "id": "7d956501-2f25-4aae-9888-6ce641001dad",
      "metadata": {
        "id": "7d956501-2f25-4aae-9888-6ce641001dad"
      },
      "outputs": [],
      "source": [
        "a = x**2\n",
        "b = 2*x\n",
        "c = torch.sin(x)\n",
        "d = a + b\n",
        "e = d + c\n",
        "p = -e\n",
        "f = torch.exp(p)"
      ]
    },
    {
      "cell_type": "code",
      "execution_count": 17,
      "id": "21d0044a-1c13-48a0-8523-f29e9ae1af38",
      "metadata": {
        "colab": {
          "base_uri": "https://localhost:8080/"
        },
        "id": "21d0044a-1c13-48a0-8523-f29e9ae1af38",
        "outputId": "528dc356-4004-416c-d2e7-369c35222a50"
      },
      "outputs": [
        {
          "output_type": "stream",
          "name": "stdout",
          "text": [
            "Grad de/dx is :  tensor(-0.0974)\n"
          ]
        }
      ],
      "source": [
        "f.backward()\n",
        "print(\"Grad df/dx is : \", x.grad)\n"
      ]
    },
    {
      "cell_type": "code",
      "execution_count": 18,
      "id": "1d9ab64a-bee4-4bd2-88bb-6fb7490bebb6",
      "metadata": {
        "id": "1d9ab64a-bee4-4bd2-88bb-6fb7490bebb6"
      },
      "outputs": [],
      "source": [
        "def manual(x):\n",
        "    a = x**2\n",
        "    b = 2*x\n",
        "    c = torch.sin(x)\n",
        "    d = a + b\n",
        "    e = d + c\n",
        "    p = -e\n",
        "    f = torch.exp(p)\n",
        "    dfdp = torch.exp(p)\n",
        "    dpde = -1\n",
        "    dedd = 1\n",
        "    dedc = 1\n",
        "    ddda = 1\n",
        "    dddb = 1\n",
        "    dcdx = torch.cos(x)\n",
        "    dbdx = 2\n",
        "    dadx = 2*x\n",
        "    return dfdp*dpde*(dedd*(ddda*dadx + dddb*dbdx) + dedc*dcdx)\n"
      ]
    },
    {
      "cell_type": "code",
      "source": [
        "print(manual(x))"
      ],
      "metadata": {
        "colab": {
          "base_uri": "https://localhost:8080/"
        },
        "id": "bZ2WzzK8eTt6",
        "outputId": "4f43f1de-db9a-42c4-8e08-3e368046dd6a"
      },
      "id": "bZ2WzzK8eTt6",
      "execution_count": 19,
      "outputs": [
        {
          "output_type": "stream",
          "name": "stdout",
          "text": [
            "tensor(-0.0974, grad_fn=<MulBackward0>)\n"
          ]
        }
      ]
    },
    {
      "cell_type": "markdown",
      "id": "67b25f68-4f54-4357-9cfc-25c229a57946",
      "metadata": {
        "id": "67b25f68-4f54-4357-9cfc-25c229a57946"
      },
      "source": [
        "Q5"
      ]
    },
    {
      "cell_type": "code",
      "execution_count": 20,
      "id": "af1efe5f-586a-4263-8f1b-64670a082c0f",
      "metadata": {
        "id": "af1efe5f-586a-4263-8f1b-64670a082c0f"
      },
      "outputs": [],
      "source": [
        "x = torch.tensor(2.0, requires_grad=True)"
      ]
    },
    {
      "cell_type": "code",
      "execution_count": 21,
      "id": "4839ccee-790a-46b7-a374-fd57799cebfa",
      "metadata": {
        "colab": {
          "base_uri": "https://localhost:8080/"
        },
        "id": "4839ccee-790a-46b7-a374-fd57799cebfa",
        "outputId": "427b25aa-3ea0-4f96-f791-592fde88f679"
      },
      "outputs": [
        {
          "output_type": "stream",
          "name": "stdout",
          "text": [
            "tensor(326.)\n"
          ]
        }
      ],
      "source": [
        "a = x**4\n",
        "b = x**3\n",
        "c = x**2\n",
        "d = 6*x\n",
        "e = 8*a\n",
        "f = 3*b\n",
        "g = 7*c\n",
        "h = e + f\n",
        "i = h + g\n",
        "j = i + d\n",
        "k = j + 3\n",
        "k.backward()\n",
        "print(x.grad)"
      ]
    },
    {
      "cell_type": "code",
      "source": [
        "def manual(x):\n",
        "    dkdj = 1\n",
        "    djdi = 1\n",
        "    djdd = 1\n",
        "    dddx = 6\n",
        "    didh = 1\n",
        "    didg = 1\n",
        "    dgdc = 7\n",
        "    dcdx = 2*x\n",
        "    dhde = 1\n",
        "    dhdf = 1\n",
        "    dfdb = 3\n",
        "    dbdx = 3*(x**2)\n",
        "    deda = 8\n",
        "    dadx = 4*(x**3)\n",
        "    dkdx = dkdj*(djdd*dddx + djdi*(didg*dgdc*dcdx + didh*(dhdf*dfdb*dbdx + dhde*deda*dadx)))\n",
        "    return dkdx\n"
      ],
      "metadata": {
        "id": "f9t-WL3wPxML"
      },
      "id": "f9t-WL3wPxML",
      "execution_count": 22,
      "outputs": []
    },
    {
      "cell_type": "code",
      "source": [
        "print(manual(x))"
      ],
      "metadata": {
        "colab": {
          "base_uri": "https://localhost:8080/"
        },
        "id": "5DIPFmdXUNjX",
        "outputId": "74307f1c-343f-4858-b94a-bfcbb6181713"
      },
      "id": "5DIPFmdXUNjX",
      "execution_count": 23,
      "outputs": [
        {
          "output_type": "stream",
          "name": "stdout",
          "text": [
            "tensor(326., grad_fn=<MulBackward0>)\n"
          ]
        }
      ]
    },
    {
      "cell_type": "markdown",
      "id": "2a11e409-d254-46c2-b0e1-8300748b812a",
      "metadata": {
        "id": "2a11e409-d254-46c2-b0e1-8300748b812a"
      },
      "source": [
        "Q6"
      ]
    },
    {
      "cell_type": "code",
      "execution_count": 24,
      "id": "0b96a092-642b-4902-ae3c-462870419782",
      "metadata": {
        "id": "0b96a092-642b-4902-ae3c-462870419782"
      },
      "outputs": [],
      "source": [
        "x = torch.tensor(1.0, requires_grad = True)\n",
        "y = torch.tensor(2.0, requires_grad = True)\n",
        "z = torch.tensor(3.0, requires_grad = True)"
      ]
    },
    {
      "cell_type": "code",
      "execution_count": 25,
      "id": "2c203628-0547-4f46-afc5-c164756c89e2",
      "metadata": {
        "id": "2c203628-0547-4f46-afc5-c164756c89e2"
      },
      "outputs": [],
      "source": [
        "a = 2*x\n",
        "b = torch.sin(y)\n",
        "c = a/b\n",
        "d = c*z\n",
        "e = torch.log(d+1)\n",
        "f = torch.tanh(e)"
      ]
    },
    {
      "cell_type": "code",
      "execution_count": 26,
      "id": "b9da266b-ccfa-4ccf-b23e-9b1a37e383a6",
      "metadata": {
        "colab": {
          "base_uri": "https://localhost:8080/"
        },
        "id": "b9da266b-ccfa-4ccf-b23e-9b1a37e383a6",
        "outputId": "461298ad-dfb7-49d6-de64-c71f7d6dfb6e"
      },
      "outputs": [
        {
          "output_type": "stream",
          "name": "stdout",
          "text": [
            "df/dx is:  tensor(0.0581)\n",
            "df/dy is:  tensor(0.0266)\n",
            "df/dz is:  tensor(0.0194)\n"
          ]
        }
      ],
      "source": [
        "f.backward()\n",
        "print(\"df/dx is: \", x.grad)\n",
        "print(\"df/dy is: \", y.grad)\n",
        "print(\"df/dz is: \", z.grad)\n"
      ]
    },
    {
      "cell_type": "code",
      "execution_count": 27,
      "id": "dc5314c0-ad33-49f5-8459-b7e8d7f3b125",
      "metadata": {
        "id": "dc5314c0-ad33-49f5-8459-b7e8d7f3b125"
      },
      "outputs": [],
      "source": [
        "def manual(x,y,z):\n",
        "    a = 2*x\n",
        "    b = torch.sin(y)\n",
        "    c = a/b\n",
        "    d = c*z\n",
        "    e = torch.log(d+1)\n",
        "    f = torch.tanh(e)\n",
        "    dfde = 1 - f**2\n",
        "    dedd = 1/(d+1)\n",
        "    dddc = z\n",
        "    dddz = c\n",
        "    dcda = 1/b\n",
        "    dcdb = -a/(b**2)\n",
        "    dbdy = torch.cos(y)\n",
        "    dadx = 2\n",
        "    dfdy = dfde*dedd*dddc*dcdb*dbdy\n",
        "    dfdx = dfde*dedd*dddc*dcda*dadx\n",
        "    dfdz = dfde*dedd*dddz\n",
        "    return dfdx,dfdy,dfdz"
      ]
    },
    {
      "cell_type": "code",
      "execution_count": 28,
      "id": "63747642-33d1-4bc2-ba0d-65f405520537",
      "metadata": {
        "colab": {
          "base_uri": "https://localhost:8080/"
        },
        "id": "63747642-33d1-4bc2-ba0d-65f405520537",
        "outputId": "e4e0a94b-e90d-425f-cd63-a8c746e650bf"
      },
      "outputs": [
        {
          "output_type": "execute_result",
          "data": {
            "text/plain": [
              "(tensor(0.0581, grad_fn=<MulBackward0>),\n",
              " tensor(0.0266, grad_fn=<MulBackward0>),\n",
              " tensor(0.0194, grad_fn=<MulBackward0>))"
            ]
          },
          "metadata": {},
          "execution_count": 28
        }
      ],
      "source": [
        "manual(x,y,z)"
      ]
    }
  ],
  "metadata": {
    "kernelspec": {
      "display_name": "Python 3 (ipykernel)",
      "language": "python",
      "name": "python3"
    },
    "language_info": {
      "codemirror_mode": {
        "name": "ipython",
        "version": 3
      },
      "file_extension": ".py",
      "mimetype": "text/x-python",
      "name": "python",
      "nbconvert_exporter": "python",
      "pygments_lexer": "ipython3",
      "version": "3.11.7"
    },
    "colab": {
      "provenance": []
    }
  },
  "nbformat": 4,
  "nbformat_minor": 5
}